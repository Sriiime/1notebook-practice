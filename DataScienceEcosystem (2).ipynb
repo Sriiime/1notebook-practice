{
 "cells": [
  {
   "cell_type": "markdown",
   "id": "49723408-0527-4e2c-8c60-62e0a33189ea",
   "metadata": {},
   "source": [
    "# Data Science Tools and Ecosystem \n",
    "\n",
    "In this notebook,Data Science Tools and Ecosystem are summarized"
   ]
  },
  {
   "cell_type": "markdown",
   "id": "31ea0622-07b0-4b36-98ca-c15fd9fd4337",
   "metadata": {},
   "source": [
    "**Objectives**\n",
    "\n",
    "- List of some commonly used Data Science languages\n",
    "- List some of the commonly used Data Science libraries\n",
    "- List some of the popular Data Science tools\n",
    "- Evaluating mathematical expression involving multiplication then addition in python\n",
    "- Converting a given quantity in minutes to hours in python\n"
   ]
  },
  {
   "cell_type": "markdown",
   "id": "f4ea77f3-d548-40c9-afaf-2d944c013691",
   "metadata": {},
   "source": [
    "## Some of the popular languages in Data Science are:\n",
    "1. Python\n",
    "2. R\n",
    "3. Julia\n",
    "4. C#"
   ]
  },
  {
   "cell_type": "markdown",
   "id": "113f8af2-1e01-4c45-a33c-0574eaec1436",
   "metadata": {},
   "source": [
    "## Some of the commonly used Data Science libraries are:\n",
    "1. Pandas\n",
    "2. NumPy\n",
    "3. Matplotlib"
   ]
  },
  {
   "cell_type": "markdown",
   "id": "5610c962-eea0-427d-bffe-e1eac1738a9f",
   "metadata": {
    "tags": []
   },
   "source": [
    "| Data Science Tools |\n",
    "----------------------\n",
    "| Apache Spark       |\n",
    "| Jupyter Notebook   |\n",
    "| Hadoop             |"
   ]
  },
  {
   "cell_type": "markdown",
   "id": "27ce1310-1778-4bd3-a817-5052470e411a",
   "metadata": {
    "tags": []
   },
   "source": [
    "### Below are a few examples of evaluating arithmetic expression in Python\n",
    "\n",
    "# (Addition of two integers)\n",
    "\n",
    "2+1\n",
    "# (Multiplication of two integers)\n",
    "\n",
    "2*1\n",
    "# (Division of two divisible integers)\n",
    "\n",
    "6/2"
   ]
  },
  {
   "cell_type": "code",
   "execution_count": 17,
   "id": "db09612c-5f0d-49ce-8ff3-c0e5615222da",
   "metadata": {
    "tags": []
   },
   "outputs": [
    {
     "data": {
      "text/plain": [
       "17"
      ]
     },
     "execution_count": 17,
     "metadata": {},
     "output_type": "execute_result"
    }
   ],
   "source": [
    "## Evaluating mathematical expression (to multiply and then add integers)as (3*4)+5  \n",
    "\n",
    "# (Multiplication should be done first, according to BODMAS rule expression within the bracket should be first calculated:)\n",
    "\n",
    "a=3*4\n",
    "\n",
    "# (Addition:)\n",
    "\n",
    "a+5\n"
   ]
  },
  {
   "cell_type": "code",
   "execution_count": 18,
   "id": "6a404be0-3818-4a33-bb8c-6d59ed271594",
   "metadata": {
    "tags": []
   },
   "outputs": [
    {
     "data": {
      "text/plain": [
       "3.3333333333333335"
      ]
     },
     "execution_count": 18,
     "metadata": {},
     "output_type": "execute_result"
    }
   ],
   "source": [
    "## Converting 200 mins to hours\n",
    "\n",
    "# (To convert 200 mins to hours,we need to divide 200 by 60,below is the code to divide 200 by 60,the output will be the required answer in hours)\n",
    "\n",
    "200/60"
   ]
  },
  {
   "cell_type": "markdown",
   "id": "c3d24f3a-eda3-4528-a594-a2f0c43bd602",
   "metadata": {},
   "source": [
    "## Author \n",
    "\n",
    "Srijana Mishra"
   ]
  }
 ],
 "metadata": {
  "kernelspec": {
   "display_name": "Python",
   "language": "python",
   "name": "conda-env-python-py"
  },
  "language_info": {
   "codemirror_mode": {
    "name": "ipython",
    "version": 3
   },
   "file_extension": ".py",
   "mimetype": "text/x-python",
   "name": "python",
   "nbconvert_exporter": "python",
   "pygments_lexer": "ipython3",
   "version": "3.7.12"
  }
 },
 "nbformat": 4,
 "nbformat_minor": 5
}
